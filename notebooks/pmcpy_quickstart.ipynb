{
 "cells": [
  {
   "cell_type": "markdown",
   "id": "331e5089",
   "metadata": {},
   "source": [
    "## pmcpy quickstart"
   ]
  },
  {
   "cell_type": "code",
   "execution_count": 1,
   "id": "194d2b4d",
   "metadata": {},
   "outputs": [],
   "source": [
    "# import necessary package\n",
    "import pmcpy\n",
    "import xarray as xr\n",
    "import numpy as np\n",
    "import pandas as pd\n",
    "import matplotlib.pyplot as plt"
   ]
  },
  {
   "cell_type": "markdown",
   "id": "7a7c76e8",
   "metadata": {},
   "source": [
    "### load the raw output file from PartMC"
   ]
  },
  {
   "cell_type": "code",
   "execution_count": 2,
   "id": "ad5a1212",
   "metadata": {},
   "outputs": [],
   "source": [
    "# define the path to data\n",
    "p = \"../data/urban_plume_0001_00000002.nc\"\n",
    "pmc = pmcpy.load_pmc(p)"
   ]
  },
  {
   "cell_type": "markdown",
   "id": "af91c7e5",
   "metadata": {},
   "source": [
    "### number concentration"
   ]
  },
  {
   "cell_type": "code",
   "execution_count": 3,
   "id": "cc663120",
   "metadata": {},
   "outputs": [
    {
     "name": "stdout",
     "output_type": "stream",
     "text": [
      "overall number conc.: 8854807162.459946 # m^{-3}\n",
      "diameter<=2.5um: 8854806282.274422 # m^{-3}\n",
      "diameter>=2.5um: 880.1855249722205 # m^{-3}\n"
     ]
    }
   ],
   "source": [
    "print(\"overall number conc.:\", pmc.get_num_conc(), \"# m^{-3}\")\n",
    "print(\"diameter<=2.5um:\", pmc.get_num_conc(pmc.get_aero_particle_diameter()<=2.5e-6), \"# m^{-3}\")\n",
    "print(\"diameter>=2.5um:\", pmc.get_num_conc(pmc.get_aero_particle_diameter()>=2.5e-6), \"# m^{-3}\")"
   ]
  },
  {
   "cell_type": "markdown",
   "id": "bd53af6b",
   "metadata": {},
   "source": [
    "### mass concentration"
   ]
  },
  {
   "cell_type": "code",
   "execution_count": 4,
   "id": "ef4398c8",
   "metadata": {},
   "outputs": [
    {
     "name": "stdout",
     "output_type": "stream",
     "text": [
      "overall mass conc.: 2.2186891469474523e-08 kg m^{-3}\n",
      "overall dry mass conc.: 1.316284475347949e-08 kg m^{-3}\n",
      "PM2.5 mass conc. (with water): 2.2164289553077805e-08 kg m^{-3}\n"
     ]
    }
   ],
   "source": [
    "print(\"overall mass conc.:\", \n",
    "      pmc.get_mass_conc(dry=False), \"kg m^{-3}\")\n",
    "print(\"overall dry mass conc.:\", \n",
    "      pmc.get_mass_conc(dry=True), \"kg m^{-3}\")\n",
    "print(\"PM2.5 mass conc. (with water):\",\n",
    "      pmc.get_mass_conc(dry=False, part_cond=pmc.get_aero_particle_diameter()<=2.5e-6), \"kg m^{-3}\")"
   ]
  },
  {
   "cell_type": "markdown",
   "id": "6c8a0d4f",
   "metadata": {},
   "source": [
    "### aerosol density"
   ]
  },
  {
   "cell_type": "code",
   "execution_count": 5,
   "id": "2ba67685",
   "metadata": {},
   "outputs": [
    {
     "name": "stdout",
     "output_type": "stream",
     "text": [
      "overall density.: 1179.020687087021 kg m^{-3}\n",
      "overall dry density: 2265.3505453667535 kg m^{-3}\n",
      "PM2.5 density (with water): 1178.3768174927013 kg m^{-3}\n"
     ]
    }
   ],
   "source": [
    "print(\"overall density.:\", \n",
    "      pmc.get_aero_density(dry=False), \"kg m^{-3}\")\n",
    "print(\"overall dry density:\", \n",
    "      pmc.get_aero_density(dry=True), \"kg m^{-3}\")\n",
    "print(\"PM2.5 density (with water):\",\n",
    "      pmc.get_aero_density(dry=False, part_cond=pmc.get_aero_particle_diameter()<=2.5e-6), \"kg m^{-3}\")"
   ]
  },
  {
   "cell_type": "markdown",
   "id": "e9b94920",
   "metadata": {},
   "source": [
    "### gas mixing ratio"
   ]
  },
  {
   "cell_type": "code",
   "execution_count": 6,
   "id": "dbd0be18",
   "metadata": {},
   "outputs": [
    {
     "data": {
      "text/html": [
       "<div><svg style=\"position: absolute; width: 0; height: 0; overflow: hidden\">\n",
       "<defs>\n",
       "<symbol id=\"icon-database\" viewBox=\"0 0 32 32\">\n",
       "<path d=\"M16 0c-8.837 0-16 2.239-16 5v4c0 2.761 7.163 5 16 5s16-2.239 16-5v-4c0-2.761-7.163-5-16-5z\"></path>\n",
       "<path d=\"M16 17c-8.837 0-16-2.239-16-5v6c0 2.761 7.163 5 16 5s16-2.239 16-5v-6c0 2.761-7.163 5-16 5z\"></path>\n",
       "<path d=\"M16 26c-8.837 0-16-2.239-16-5v6c0 2.761 7.163 5 16 5s16-2.239 16-5v-6c0 2.761-7.163 5-16 5z\"></path>\n",
       "</symbol>\n",
       "<symbol id=\"icon-file-text2\" viewBox=\"0 0 32 32\">\n",
       "<path d=\"M28.681 7.159c-0.694-0.947-1.662-2.053-2.724-3.116s-2.169-2.030-3.116-2.724c-1.612-1.182-2.393-1.319-2.841-1.319h-15.5c-1.378 0-2.5 1.121-2.5 2.5v27c0 1.378 1.122 2.5 2.5 2.5h23c1.378 0 2.5-1.122 2.5-2.5v-19.5c0-0.448-0.137-1.23-1.319-2.841zM24.543 5.457c0.959 0.959 1.712 1.825 2.268 2.543h-4.811v-4.811c0.718 0.556 1.584 1.309 2.543 2.268zM28 29.5c0 0.271-0.229 0.5-0.5 0.5h-23c-0.271 0-0.5-0.229-0.5-0.5v-27c0-0.271 0.229-0.5 0.5-0.5 0 0 15.499-0 15.5 0v7c0 0.552 0.448 1 1 1h7v19.5z\"></path>\n",
       "<path d=\"M23 26h-14c-0.552 0-1-0.448-1-1s0.448-1 1-1h14c0.552 0 1 0.448 1 1s-0.448 1-1 1z\"></path>\n",
       "<path d=\"M23 22h-14c-0.552 0-1-0.448-1-1s0.448-1 1-1h14c0.552 0 1 0.448 1 1s-0.448 1-1 1z\"></path>\n",
       "<path d=\"M23 18h-14c-0.552 0-1-0.448-1-1s0.448-1 1-1h14c0.552 0 1 0.448 1 1s-0.448 1-1 1z\"></path>\n",
       "</symbol>\n",
       "</defs>\n",
       "</svg>\n",
       "<style>/* CSS stylesheet for displaying xarray objects in jupyterlab.\n",
       " *\n",
       " */\n",
       "\n",
       ":root {\n",
       "  --xr-font-color0: var(--jp-content-font-color0, rgba(0, 0, 0, 1));\n",
       "  --xr-font-color2: var(--jp-content-font-color2, rgba(0, 0, 0, 0.54));\n",
       "  --xr-font-color3: var(--jp-content-font-color3, rgba(0, 0, 0, 0.38));\n",
       "  --xr-border-color: var(--jp-border-color2, #e0e0e0);\n",
       "  --xr-disabled-color: var(--jp-layout-color3, #bdbdbd);\n",
       "  --xr-background-color: var(--jp-layout-color0, white);\n",
       "  --xr-background-color-row-even: var(--jp-layout-color1, white);\n",
       "  --xr-background-color-row-odd: var(--jp-layout-color2, #eeeeee);\n",
       "}\n",
       "\n",
       "html[theme=dark],\n",
       "body.vscode-dark {\n",
       "  --xr-font-color0: rgba(255, 255, 255, 1);\n",
       "  --xr-font-color2: rgba(255, 255, 255, 0.54);\n",
       "  --xr-font-color3: rgba(255, 255, 255, 0.38);\n",
       "  --xr-border-color: #1F1F1F;\n",
       "  --xr-disabled-color: #515151;\n",
       "  --xr-background-color: #111111;\n",
       "  --xr-background-color-row-even: #111111;\n",
       "  --xr-background-color-row-odd: #313131;\n",
       "}\n",
       "\n",
       ".xr-wrap {\n",
       "  display: block !important;\n",
       "  min-width: 300px;\n",
       "  max-width: 700px;\n",
       "}\n",
       "\n",
       ".xr-text-repr-fallback {\n",
       "  /* fallback to plain text repr when CSS is not injected (untrusted notebook) */\n",
       "  display: none;\n",
       "}\n",
       "\n",
       ".xr-header {\n",
       "  padding-top: 6px;\n",
       "  padding-bottom: 6px;\n",
       "  margin-bottom: 4px;\n",
       "  border-bottom: solid 1px var(--xr-border-color);\n",
       "}\n",
       "\n",
       ".xr-header > div,\n",
       ".xr-header > ul {\n",
       "  display: inline;\n",
       "  margin-top: 0;\n",
       "  margin-bottom: 0;\n",
       "}\n",
       "\n",
       ".xr-obj-type,\n",
       ".xr-array-name {\n",
       "  margin-left: 2px;\n",
       "  margin-right: 10px;\n",
       "}\n",
       "\n",
       ".xr-obj-type {\n",
       "  color: var(--xr-font-color2);\n",
       "}\n",
       "\n",
       ".xr-sections {\n",
       "  padding-left: 0 !important;\n",
       "  display: grid;\n",
       "  grid-template-columns: 150px auto auto 1fr 20px 20px;\n",
       "}\n",
       "\n",
       ".xr-section-item {\n",
       "  display: contents;\n",
       "}\n",
       "\n",
       ".xr-section-item input {\n",
       "  display: none;\n",
       "}\n",
       "\n",
       ".xr-section-item input + label {\n",
       "  color: var(--xr-disabled-color);\n",
       "}\n",
       "\n",
       ".xr-section-item input:enabled + label {\n",
       "  cursor: pointer;\n",
       "  color: var(--xr-font-color2);\n",
       "}\n",
       "\n",
       ".xr-section-item input:enabled + label:hover {\n",
       "  color: var(--xr-font-color0);\n",
       "}\n",
       "\n",
       ".xr-section-summary {\n",
       "  grid-column: 1;\n",
       "  color: var(--xr-font-color2);\n",
       "  font-weight: 500;\n",
       "}\n",
       "\n",
       ".xr-section-summary > span {\n",
       "  display: inline-block;\n",
       "  padding-left: 0.5em;\n",
       "}\n",
       "\n",
       ".xr-section-summary-in:disabled + label {\n",
       "  color: var(--xr-font-color2);\n",
       "}\n",
       "\n",
       ".xr-section-summary-in + label:before {\n",
       "  display: inline-block;\n",
       "  content: '►';\n",
       "  font-size: 11px;\n",
       "  width: 15px;\n",
       "  text-align: center;\n",
       "}\n",
       "\n",
       ".xr-section-summary-in:disabled + label:before {\n",
       "  color: var(--xr-disabled-color);\n",
       "}\n",
       "\n",
       ".xr-section-summary-in:checked + label:before {\n",
       "  content: '▼';\n",
       "}\n",
       "\n",
       ".xr-section-summary-in:checked + label > span {\n",
       "  display: none;\n",
       "}\n",
       "\n",
       ".xr-section-summary,\n",
       ".xr-section-inline-details {\n",
       "  padding-top: 4px;\n",
       "  padding-bottom: 4px;\n",
       "}\n",
       "\n",
       ".xr-section-inline-details {\n",
       "  grid-column: 2 / -1;\n",
       "}\n",
       "\n",
       ".xr-section-details {\n",
       "  display: none;\n",
       "  grid-column: 1 / -1;\n",
       "  margin-bottom: 5px;\n",
       "}\n",
       "\n",
       ".xr-section-summary-in:checked ~ .xr-section-details {\n",
       "  display: contents;\n",
       "}\n",
       "\n",
       ".xr-array-wrap {\n",
       "  grid-column: 1 / -1;\n",
       "  display: grid;\n",
       "  grid-template-columns: 20px auto;\n",
       "}\n",
       "\n",
       ".xr-array-wrap > label {\n",
       "  grid-column: 1;\n",
       "  vertical-align: top;\n",
       "}\n",
       "\n",
       ".xr-preview {\n",
       "  color: var(--xr-font-color3);\n",
       "}\n",
       "\n",
       ".xr-array-preview,\n",
       ".xr-array-data {\n",
       "  padding: 0 5px !important;\n",
       "  grid-column: 2;\n",
       "}\n",
       "\n",
       ".xr-array-data,\n",
       ".xr-array-in:checked ~ .xr-array-preview {\n",
       "  display: none;\n",
       "}\n",
       "\n",
       ".xr-array-in:checked ~ .xr-array-data,\n",
       ".xr-array-preview {\n",
       "  display: inline-block;\n",
       "}\n",
       "\n",
       ".xr-dim-list {\n",
       "  display: inline-block !important;\n",
       "  list-style: none;\n",
       "  padding: 0 !important;\n",
       "  margin: 0;\n",
       "}\n",
       "\n",
       ".xr-dim-list li {\n",
       "  display: inline-block;\n",
       "  padding: 0;\n",
       "  margin: 0;\n",
       "}\n",
       "\n",
       ".xr-dim-list:before {\n",
       "  content: '(';\n",
       "}\n",
       "\n",
       ".xr-dim-list:after {\n",
       "  content: ')';\n",
       "}\n",
       "\n",
       ".xr-dim-list li:not(:last-child):after {\n",
       "  content: ',';\n",
       "  padding-right: 5px;\n",
       "}\n",
       "\n",
       ".xr-has-index {\n",
       "  font-weight: bold;\n",
       "}\n",
       "\n",
       ".xr-var-list,\n",
       ".xr-var-item {\n",
       "  display: contents;\n",
       "}\n",
       "\n",
       ".xr-var-item > div,\n",
       ".xr-var-item label,\n",
       ".xr-var-item > .xr-var-name span {\n",
       "  background-color: var(--xr-background-color-row-even);\n",
       "  margin-bottom: 0;\n",
       "}\n",
       "\n",
       ".xr-var-item > .xr-var-name:hover span {\n",
       "  padding-right: 5px;\n",
       "}\n",
       "\n",
       ".xr-var-list > li:nth-child(odd) > div,\n",
       ".xr-var-list > li:nth-child(odd) > label,\n",
       ".xr-var-list > li:nth-child(odd) > .xr-var-name span {\n",
       "  background-color: var(--xr-background-color-row-odd);\n",
       "}\n",
       "\n",
       ".xr-var-name {\n",
       "  grid-column: 1;\n",
       "}\n",
       "\n",
       ".xr-var-dims {\n",
       "  grid-column: 2;\n",
       "}\n",
       "\n",
       ".xr-var-dtype {\n",
       "  grid-column: 3;\n",
       "  text-align: right;\n",
       "  color: var(--xr-font-color2);\n",
       "}\n",
       "\n",
       ".xr-var-preview {\n",
       "  grid-column: 4;\n",
       "}\n",
       "\n",
       ".xr-var-name,\n",
       ".xr-var-dims,\n",
       ".xr-var-dtype,\n",
       ".xr-preview,\n",
       ".xr-attrs dt {\n",
       "  white-space: nowrap;\n",
       "  overflow: hidden;\n",
       "  text-overflow: ellipsis;\n",
       "  padding-right: 10px;\n",
       "}\n",
       "\n",
       ".xr-var-name:hover,\n",
       ".xr-var-dims:hover,\n",
       ".xr-var-dtype:hover,\n",
       ".xr-attrs dt:hover {\n",
       "  overflow: visible;\n",
       "  width: auto;\n",
       "  z-index: 1;\n",
       "}\n",
       "\n",
       ".xr-var-attrs,\n",
       ".xr-var-data {\n",
       "  display: none;\n",
       "  background-color: var(--xr-background-color) !important;\n",
       "  padding-bottom: 5px !important;\n",
       "}\n",
       "\n",
       ".xr-var-attrs-in:checked ~ .xr-var-attrs,\n",
       ".xr-var-data-in:checked ~ .xr-var-data {\n",
       "  display: block;\n",
       "}\n",
       "\n",
       ".xr-var-data > table {\n",
       "  float: right;\n",
       "}\n",
       "\n",
       ".xr-var-name span,\n",
       ".xr-var-data,\n",
       ".xr-attrs {\n",
       "  padding-left: 25px !important;\n",
       "}\n",
       "\n",
       ".xr-attrs,\n",
       ".xr-var-attrs,\n",
       ".xr-var-data {\n",
       "  grid-column: 1 / -1;\n",
       "}\n",
       "\n",
       "dl.xr-attrs {\n",
       "  padding: 0;\n",
       "  margin: 0;\n",
       "  display: grid;\n",
       "  grid-template-columns: 125px auto;\n",
       "}\n",
       "\n",
       ".xr-attrs dt,\n",
       ".xr-attrs dd {\n",
       "  padding: 0;\n",
       "  margin: 0;\n",
       "  float: left;\n",
       "  padding-right: 10px;\n",
       "  width: auto;\n",
       "}\n",
       "\n",
       ".xr-attrs dt {\n",
       "  font-weight: normal;\n",
       "  grid-column: 1;\n",
       "}\n",
       "\n",
       ".xr-attrs dt:hover span {\n",
       "  display: inline-block;\n",
       "  background: var(--xr-background-color);\n",
       "  padding-right: 10px;\n",
       "}\n",
       "\n",
       ".xr-attrs dd {\n",
       "  grid-column: 2;\n",
       "  white-space: pre-wrap;\n",
       "  word-break: break-all;\n",
       "}\n",
       "\n",
       ".xr-icon-database,\n",
       ".xr-icon-file-text2 {\n",
       "  display: inline-block;\n",
       "  vertical-align: middle;\n",
       "  width: 1em;\n",
       "  height: 1.5em !important;\n",
       "  stroke-width: 0;\n",
       "  stroke: currentColor;\n",
       "  fill: currentColor;\n",
       "}\n",
       "</style><pre class='xr-text-repr-fallback'>&lt;xarray.DataArray &#x27;gas_mixing_ratio&#x27; (gas_species: 2)&gt;\n",
       "array([354.311384,  43.069374])\n",
       "Coordinates:\n",
       "  * gas_species  (gas_species) int32 17 11\n",
       "Attributes:\n",
       "    unit:       ppb\n",
       "    long_name:  mixing ratios of gas species</pre><div class='xr-wrap' style='display:none'><div class='xr-header'><div class='xr-obj-type'>xarray.DataArray</div><div class='xr-array-name'>'gas_mixing_ratio'</div><ul class='xr-dim-list'><li><span class='xr-has-index'>gas_species</span>: 2</li></ul></div><ul class='xr-sections'><li class='xr-section-item'><div class='xr-array-wrap'><input id='section-69d18ce1-3644-4f78-b593-5f9ffdaaba97' class='xr-array-in' type='checkbox' checked><label for='section-69d18ce1-3644-4f78-b593-5f9ffdaaba97' title='Show/hide data repr'><svg class='icon xr-icon-database'><use xlink:href='#icon-database'></use></svg></label><div class='xr-array-preview xr-preview'><span>354.3 43.07</span></div><div class='xr-array-data'><pre>array([354.311384,  43.069374])</pre></div></div></li><li class='xr-section-item'><input id='section-4ff9aa8c-45d7-426d-87a8-68406b1e13d2' class='xr-section-summary-in' type='checkbox'  checked><label for='section-4ff9aa8c-45d7-426d-87a8-68406b1e13d2' class='xr-section-summary' >Coordinates: <span>(1)</span></label><div class='xr-section-inline-details'></div><div class='xr-section-details'><ul class='xr-var-list'><li class='xr-var-item'><div class='xr-var-name'><span class='xr-has-index'>gas_species</span></div><div class='xr-var-dims'>(gas_species)</div><div class='xr-var-dtype'>int32</div><div class='xr-var-preview xr-preview'>17 11</div><input id='attrs-cee93f13-9c74-422a-8a56-d5aeabb80398' class='xr-var-attrs-in' type='checkbox' ><label for='attrs-cee93f13-9c74-422a-8a56-d5aeabb80398' title='Show/Hide attributes'><svg class='icon xr-icon-file-text2'><use xlink:href='#icon-file-text2'></use></svg></label><input id='data-92b32c2f-0638-4c6f-8144-8943e1f621ea' class='xr-var-data-in' type='checkbox'><label for='data-92b32c2f-0638-4c6f-8144-8943e1f621ea' title='Show/Hide data repr'><svg class='icon xr-icon-database'><use xlink:href='#icon-database'></use></svg></label><div class='xr-var-attrs'><dl class='xr-attrs'><dt><span>names :</span></dt><dd>H2SO4,HNO3,HCl,NH3,NO,NO2,NO3,N2O5,HONO,HNO4,O3,O1D,O3P,OH,HO2,H2O2,CO,SO2,CH4,C2H6,CH3O2,ETHP,HCHO,CH3OH,ANOL,CH3OOH,ETHOOH,ALD2,HCOOH,RCOOH,C2O3,PAN,ARO1,ARO2,ALK1,OLE1,API1,API2,LIM1,LIM2,PAR,AONE,MGLY,ETH,OLET,OLEI,TOL,XYL,CRES,TO2,CRO,OPEN,ONIT,ROOH,RO2,ANO2,NAP,XO2,XPAR,ISOP,ISOPRD,ISOPP,ISOPN,ISOPO2,API,LIM,DMS,MSA,DMSO,DMSO2,CH3SO2H,CH3SCH2OO,CH3SO2,CH3SO3,CH3SO2OO,CH3SO2CH2OO,SULFHOX</dd><dt><span>description :</span></dt><dd>dummy dimension variable (no useful value) - read species names as comma-separated values from the &#x27;names&#x27; attribute</dd></dl></div><div class='xr-var-data'><pre>array([17, 11], dtype=int32)</pre></div></li></ul></div></li><li class='xr-section-item'><input id='section-4e2982f3-42e2-413a-ba3c-6c4a28e30be6' class='xr-section-summary-in' type='checkbox'  checked><label for='section-4e2982f3-42e2-413a-ba3c-6c4a28e30be6' class='xr-section-summary' >Attributes: <span>(2)</span></label><div class='xr-section-inline-details'></div><div class='xr-section-details'><dl class='xr-attrs'><dt><span>unit :</span></dt><dd>ppb</dd><dt><span>long_name :</span></dt><dd>mixing ratios of gas species</dd></dl></div></li></ul></div></div>"
      ],
      "text/plain": [
       "<xarray.DataArray 'gas_mixing_ratio' (gas_species: 2)>\n",
       "array([354.311384,  43.069374])\n",
       "Coordinates:\n",
       "  * gas_species  (gas_species) int32 17 11\n",
       "Attributes:\n",
       "    unit:       ppb\n",
       "    long_name:  mixing ratios of gas species"
      ]
     },
     "execution_count": 6,
     "metadata": {},
     "output_type": "execute_result"
    }
   ],
   "source": [
    "gas_list = ['CO','O3']\n",
    "pmc.get_gas_mixing_ratio(gas_list)"
   ]
  },
  {
   "cell_type": "markdown",
   "id": "474c43fe",
   "metadata": {},
   "source": [
    "### mixing state index calculation"
   ]
  },
  {
   "cell_type": "markdown",
   "id": "18641e6e",
   "metadata": {},
   "source": [
    "based on `group_list`"
   ]
  },
  {
   "cell_type": "code",
   "execution_count": 7,
   "id": "0cfb35da",
   "metadata": {},
   "outputs": [
    {
     "data": {
      "text/plain": [
       "0.838104186813985"
      ]
     },
     "execution_count": 7,
     "metadata": {},
     "output_type": "execute_result"
    }
   ],
   "source": [
    "group_list = [['SO4','Cl','ARO1','ARO2','ALK1','OLE1',\n",
    "                'API1','API2','LIM1','LIM2','Na'],\n",
    "              ['BC','OC','OIN']]\n",
    "pmc.get_mixing_state_index(group_list=group_list, diversity=False)"
   ]
  },
  {
   "cell_type": "markdown",
   "id": "8c2f830e",
   "metadata": {},
   "source": [
    "based on all species (``without water``)"
   ]
  },
  {
   "cell_type": "code",
   "execution_count": 8,
   "id": "028de248",
   "metadata": {},
   "outputs": [
    {
     "data": {
      "text/plain": [
       "0.6471920046172537"
      ]
     },
     "execution_count": 8,
     "metadata": {},
     "output_type": "execute_result"
    }
   ],
   "source": [
    "pmc.get_mixing_state_index(drop_list=[\"H2O\"], diversity=False)"
   ]
  },
  {
   "cell_type": "markdown",
   "id": "85d12f78",
   "metadata": {},
   "source": [
    "specific `range of diameters` and display `diversity` ($D_\\alpha$, $D_\\gamma$, $\\chi$)"
   ]
  },
  {
   "cell_type": "code",
   "execution_count": 9,
   "id": "46cd627b",
   "metadata": {},
   "outputs": [
    {
     "data": {
      "text/plain": [
       "(3.1876143541221276, 4.355134759609094, 0.6520198176412461)"
      ]
     },
     "execution_count": 9,
     "metadata": {},
     "output_type": "execute_result"
    }
   ],
   "source": [
    "pmc.get_mixing_state_index(drop_list=[\"H2O\"], \n",
    "                           part_cond=pmc.get_aero_particle_diameter()<=2.5e-6, \n",
    "                           diversity=True)"
   ]
  },
  {
   "cell_type": "markdown",
   "id": "1407923e",
   "metadata": {},
   "source": [
    "### particle size distribution visualization (number concentration v.s. diameter)"
   ]
  },
  {
   "cell_type": "markdown",
   "id": "73f62b03",
   "metadata": {},
   "source": [
    "overall number concentration"
   ]
  },
  {
   "cell_type": "code",
   "execution_count": 10,
   "id": "46d9360b",
   "metadata": {},
   "outputs": [
    {
     "data": {
      "image/png": "[encoded data removed]",
      "text/plain": [
       "<Figure size 432x288 with 1 Axes>"
      ]
     },
     "metadata": {
      "needs_background": "light"
     },
     "output_type": "display_data"
    }
   ],
   "source": [
    "# get \n",
    "aero_diameter = pmc.get_aero_particle_diameter()\n",
    "num_conc_per_particle = pmc.ds[\"aero_num_conc\"]\n",
    "\n",
    "# setup the 111 bins ranged from 10^-8 to 10^-6\n",
    "bins = np.logspace(-8,-6,2*50+1)\n",
    "\n",
    "# plot the number distribution\n",
    "plt.hist(aero_diameter, bins=bins, weights=num_conc_per_particle)\n",
    "plt.xscale('log')\n",
    "plt.xlabel('diameter [m]')\n",
    "plt.ylabel(r'num conc. [# m$^{-3}$]')\n",
    "plt.show()"
   ]
  },
  {
   "cell_type": "markdown",
   "id": "7db175ec",
   "metadata": {},
   "source": [
    "number concentration for particles with diameters between 1$\\mu$m and 2.5$\\mu$m"
   ]
  },
  {
   "cell_type": "code",
   "execution_count": 11,
   "id": "35a78e84",
   "metadata": {},
   "outputs": [
    {
     "data": {
      "image/png": "[encoded data removed]",
      "text/plain": [
       "<Figure size 432x288 with 1 Axes>"
      ]
     },
     "metadata": {
      "needs_background": "light"
     },
     "output_type": "display_data"
    }
   ],
   "source": [
    "# get the diameters of all particles\n",
    "aero_diameter = pmc.get_aero_particle_diameter()\n",
    "# select particles with diameters between 1um and 2.5um\n",
    "part_cond = (aero_diameter<=2.5e-6) & (aero_diameter>=1.0e-6)\n",
    "\n",
    "aero_diameter_cond = aero_diameter[part_cond]\n",
    "num_conc_per_particle_cond = pmc.ds[\"aero_num_conc\"][part_cond]\n",
    "\n",
    "# setup the 111 bins ranged from 10^-8 to 10^-6\n",
    "bins = np.logspace(-7,-5,2*50+1)\n",
    "\n",
    "# plot the number distribution\n",
    "plt.hist(aero_diameter_cond, bins=bins, weights=num_conc_per_particle_cond)\n",
    "plt.xscale('log')\n",
    "plt.xlabel('diameter [m]')\n",
    "plt.ylabel(r'num conc. [# m$^{-3}$]')\n",
    "plt.show()"
   ]
  }
 ],
 "metadata": {
  "kernelspec": {
   "display_name": "Python 3 (ipykernel)",
   "language": "python",
   "name": "python3"
  },
  "language_info": {
   "codemirror_mode": {
    "name": "ipython",
    "version": 3
   },
   "file_extension": ".py",
   "mimetype": "text/x-python",
   "name": "python",
   "nbconvert_exporter": "python",
   "pygments_lexer": "ipython3",
   "version": "3.8.13"
  }
 },
 "nbformat": 4,
 "nbformat_minor": 5
}
